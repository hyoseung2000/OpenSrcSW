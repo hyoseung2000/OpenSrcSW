{
 "cells": [
  {
   "cell_type": "code",
   "execution_count": 3,
   "metadata": {},
   "outputs": [
    {
     "name": "stdout",
     "output_type": "stream",
     "text": [
      "x값을 입력하세요1\n",
      "3x^2 + 5x + 3 =  11\n"
     ]
    }
   ],
   "source": [
    "#실습1-1\n",
    "x=float(input(\"x값을 입력하세요: \"))\n",
    "y=3*x*x+5*x+3\n",
    "print(\"3x^2 + 5x + 3 = \",y)"
   ]
  },
  {
   "cell_type": "code",
   "execution_count": 7,
   "metadata": {},
   "outputs": [
    {
     "name": "stdout",
     "output_type": "stream",
     "text": [
      "원의 반지름의 길이를 입력하세요: 3\n",
      "원의 둘레는 18.84 이고, 원의 넓이는 28.26 입니다.\n"
     ]
    }
   ],
   "source": [
    "#실습1-2\n",
    "pi=3.14\n",
    "r=float(input(\"원의 반지름의 길이를 입력하세요: \"))\n",
    "length=2*pi*r\n",
    "area=pi*r*r\n",
    "print(\"원의 둘레는 %.2f\"%length,\"이고, 원의 넓이는 %.2f\"%area,\"입니다.\")"
   ]
  },
  {
   "cell_type": "code",
   "execution_count": null,
   "metadata": {},
   "outputs": [],
   "source": []
  }
 ],
 "metadata": {
  "kernelspec": {
   "display_name": "Python 3",
   "language": "python",
   "name": "python3"
  },
  "language_info": {
   "codemirror_mode": {
    "name": "ipython",
    "version": 3
   },
   "file_extension": ".py",
   "mimetype": "text/x-python",
   "name": "python",
   "nbconvert_exporter": "python",
   "pygments_lexer": "ipython3",
   "version": "3.8.5"
  }
 },
 "nbformat": 4,
 "nbformat_minor": 4
}
