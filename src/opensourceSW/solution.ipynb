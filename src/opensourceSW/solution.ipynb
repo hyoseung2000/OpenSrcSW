{
 "cells": [
  {
   "cell_type": "code",
   "execution_count": 32,
   "metadata": {},
   "outputs": [
    {
     "name": "stdout",
     "output_type": "stream",
     "text": [
      "( 1 , 2 )\n",
      "( 3 , 4 )\n",
      "( 4 , 6 )\n"
     ]
    }
   ],
   "source": [
    "#문제1\n",
    "class Point:\n",
    "    num1=0\n",
    "    num2=0\n",
    "    \n",
    "    def show(self):\n",
    "        print(\"(\",str(self.num1),\",\",str(self.num2),\")\")\n",
    "    def __init__(self,num1,num2):\n",
    "        self.num1=num1\n",
    "        self.num2=num2\n",
    "        \n",
    "    def __add__(a,b):\n",
    "        num1=a.num1+b.num1\n",
    "        num2=a.num2+b.num2\n",
    "        return Point(num1,num2)\n",
    "        \n",
    "    \n",
    "a=Point(1,2)\n",
    "a.show()\n",
    "\n",
    "b=Point(3,4)\n",
    "b.show()\n",
    "\n",
    "a=a+b\n",
    "a.show()"
   ]
  },
  {
   "cell_type": "code",
   "execution_count": 2,
   "metadata": {},
   "outputs": [
    {
     "name": "stdout",
     "output_type": "stream",
     "text": [
      "MAX WEEK = 5/ 22  ~ 5/ 28\n"
     ]
    }
   ],
   "source": [
    "#문제2\n",
    "import csv\n",
    "f=open('seoul.csv')\n",
    "data=csv.reader(f)\n",
    "next(data)\n",
    "\n",
    "max=-999\n",
    "max_week=[]\n",
    "i=1\n",
    "temp=0\n",
    "for row in data:\n",
    "    row[-1]=float(row[-1])\n",
    "    row[-2]=float(row[-2])\n",
    "    sub=row[-1]-row[-2]\n",
    "    \n",
    "    if(i==7): # 일주일\n",
    "        temp+=sub\n",
    "        max_week.append(temp)\n",
    "        i=0        \n",
    "    else:\n",
    "        temp+=sub\n",
    "        i+=1\n",
    "max_week.append(temp)\n",
    "\n",
    "for j in range (len(max_week)):\n",
    "    if(max_week[j]>max):\n",
    "        max=max_week[j]\n",
    "        maxnum=j\n",
    "print('MAX WEEK = 5/',str(maxnum*7+1),' ~ 5/',str(maxnum*7+7))\n",
    "    \n",
    "    \n",
    "    \n",
    "    "
   ]
  },
  {
   "cell_type": "code",
   "execution_count": 33,
   "metadata": {},
   "outputs": [
    {
     "data": {
      "image/png": "[encoded data removed]",
      "text/plain": [
       "<Figure size 432x288 with 1 Axes>"
      ]
     },
     "metadata": {
      "needs_background": "light"
     },
     "output_type": "display_data"
    }
   ],
   "source": [
    "import numpy as np\n",
    "import matplotlib.pyplot as plt\n",
    "Query=np.array([1,1,0,0,1,0])\n",
    "Docs=np.array([[1,1,0,1,0,1],[1,1,1,0,1,0],[1,1,0,1,0,0]])\n",
    "arr=[]\n",
    "for i in range(3):\n",
    "    a=np.dot(Docs[i],Query)\n",
    "    b=np.dot(Docs[i],Docs[i].T)\n",
    "    c=np.dot(Query,Query.T)\n",
    "    num=float(a/(c*b))\n",
    "    arr.append(num)\n",
    "plt.hist(arr)\n",
    "plt.title('Cosine similarities')\n",
    "plt.show()\n"
   ]
  },
  {
   "cell_type": "code",
   "execution_count": null,
   "metadata": {},
   "outputs": [],
   "source": []
  }
 ],
 "metadata": {
  "kernelspec": {
   "display_name": "Python 3",
   "language": "python",
   "name": "python3"
  },
  "language_info": {
   "codemirror_mode": {
    "name": "ipython",
    "version": 3
   },
   "file_extension": ".py",
   "mimetype": "text/x-python",
   "name": "python",
   "nbconvert_exporter": "python",
   "pygments_lexer": "ipython3",
   "version": "3.8.5"
  }
 },
 "nbformat": 4,
 "nbformat_minor": 4
}
