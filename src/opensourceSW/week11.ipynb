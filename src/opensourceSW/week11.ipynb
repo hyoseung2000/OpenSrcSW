{
 "cells": [
  {
   "cell_type": "code",
   "execution_count": 4,
   "metadata": {},
   "outputs": [
    {
     "name": "stdout",
     "output_type": "stream",
     "text": [
      "복사할 파일과 새로 생성할 파일의 이름을 입력하세요: file1.txt file2.txt\n",
      "file1: hello~\n",
      "file2: hello~\n",
      "\n"
     ]
    }
   ],
   "source": [
    "#실습6\n",
    "str= input(\"복사할 파일과 새로 생성할 파일의 이름을 입력하세요: \")\n",
    "fname=str.split()\n",
    "f1=open(fname[0],'r')\n",
    "f2=open(fname[1],'w')\n",
    "f2.write(f1.read())\n",
    "f1.seek(0)\n",
    "f2.close()\n",
    "f2=open(fname[1],'r')\n",
    "print(\"file1: \"+f1.read()+\"\\n\"+\"file2: \"+f2.read()+\"\\n\")\n",
    "f1.close()\n",
    "f2.close()"
   ]
  },
  {
   "cell_type": "code",
   "execution_count": 25,
   "metadata": {},
   "outputs": [
    {
     "name": "stdout",
     "output_type": "stream",
     "text": [
      "읽어들일 파일의 이름을 입력하세요: test.txt\n",
      "test.txt의 line 수: \n",
      "4\n",
      "test.txt의 단어 개수: \n",
      "17\n"
     ]
    }
   ],
   "source": [
    "#실습7\n",
    "fname=input(\"읽어들일 파일의 이름을 입력하세요: \")\n",
    "f=open(fname,'r')\n",
    "lnum=0\n",
    "wnum=0\n",
    "while True:\n",
    "    line=f.readline()\n",
    "    if not line: break\n",
    "    lnum+=1\n",
    "    wnum+=len(line.split())\n",
    "print(fname+\"의 line 수: \")\n",
    "print(lnum)\n",
    "print(fname+\"의 단어 개수: \")\n",
    "print(wnum)"
   ]
  },
  {
   "cell_type": "code",
   "execution_count": 28,
   "metadata": {},
   "outputs": [
    {
     "name": "stdout",
     "output_type": "stream",
     "text": [
      "1 + 2 = 3\n",
      "5 - 1 = 4\n",
      "2 * 3 = 6\n",
      "6 / 2 = 3.00\n"
     ]
    }
   ],
   "source": [
    "#실습8\n",
    "class Calc:\n",
    "    def sum(self,a,b):\n",
    "        result=a+b\n",
    "        print(\"{0:d} + {1:d} = {2:d}\".format(a,b,result))\n",
    "    def sub(self,a,b):\n",
    "        result=a-b\n",
    "        print(\"{0:d} - {1:d} = {2:d}\".format(a,b,result))\n",
    "    def multi(self,a,b):\n",
    "        result=a*b\n",
    "        print(\"{0:d} * {1:d} = {2:d}\".format(a,b,result))\n",
    "    def divi(self,a,b):\n",
    "        result=a/b\n",
    "        print(\"{0:d} / {1:d} = {2:.2f}\".format(a,b,result))\n",
    "calc=Calc()\n",
    "calc.sum(1,2)\n",
    "calc.sub(5,1)\n",
    "calc.multi(2,3)\n",
    "calc.divi(6,2)"
   ]
  },
  {
   "cell_type": "code",
   "execution_count": 46,
   "metadata": {},
   "outputs": [
    {
     "name": "stdout",
     "output_type": "stream",
     "text": [
      "연산식을 입력해주세요: 2 - 10 / 5 * 6 + 4\n",
      "-6\n"
     ]
    }
   ],
   "source": [
    "#실습9\n",
    "class Stack:\n",
    "    \n",
    "    def __init__ (self):\n",
    "        self.stack = []\n",
    "    \n",
    "    def push (self, data):\n",
    "        self.stack.append(data)\n",
    "\n",
    "    def pop(self):\n",
    "        if (len(self.stack)!=0):\n",
    "            return self.stack.pop()\n",
    "        else:\n",
    "            print(\"Stack is empty!\")\n",
    "            \n",
    "eq=input(\"연산식을 입력해주세요: \")\n",
    "eqlist=eq.split()\n",
    "prepix=[] #후위연산식 저장\n",
    "calc=[] #연산자 임시저장(스택)\n",
    "for i in range(len(eqlist)): # 계산우위에 따라 후위연산식으로 변환\n",
    "    if(eqlist[i]=='+' or eqlist[i]=='-'):\n",
    "        if(len(calc)==0):\n",
    "            calc.append(eqlist[i])\n",
    "        else:\n",
    "            while(len(calc)!=0):\n",
    "                prepix.append(calc.pop())\n",
    "            calc.append(eqlist[i])\n",
    "            \n",
    "    elif(eqlist[i]=='*' or eqlist[i]=='/'):\n",
    "        if(calc[-1]=='*' or calc[-1]=='/'):\n",
    "            prepix.append(calc.pop())\n",
    "            calc.append(eqlist[i])\n",
    "        else:\n",
    "            calc.append(eqlist[i])\n",
    "    \n",
    "    else:\n",
    "        prepix.append(eqlist[i])\n",
    "prepix.append(calc.pop())\n",
    "\n",
    "sstack=Stack() #연산을 위한 스택\n",
    "for op in prepix: #숫자면 push\n",
    "    if(op!='+' and op!='-' and op!='*' and op!='/'):\n",
    "        sstack.push(op)\n",
    "    else: #연산자면 수 pop해서 연산 후 push\n",
    "        operand1=sstack.pop()\n",
    "        operand2=sstack.pop()\n",
    "        if(op=='+'):\n",
    "            sstack.push(int(operand1)+int(operand2))\n",
    "        elif(op=='-'):\n",
    "            sstack.push(int(operand2)-int(operand1))\n",
    "        elif(op=='*'):\n",
    "            sstack.push(int(operand1)*int(operand2))\n",
    "        elif(op=='/'):\n",
    "            sstack.push(int(operand2)/int(operand1))\n",
    "print(sstack.pop())\n",
    "    "
   ]
  },
  {
   "cell_type": "code",
   "execution_count": null,
   "metadata": {},
   "outputs": [],
   "source": []
  }
 ],
 "metadata": {
  "kernelspec": {
   "display_name": "Python 3",
   "language": "python",
   "name": "python3"
  },
  "language_info": {
   "codemirror_mode": {
    "name": "ipython",
    "version": 3
   },
   "file_extension": ".py",
   "mimetype": "text/x-python",
   "name": "python",
   "nbconvert_exporter": "python",
   "pygments_lexer": "ipython3",
   "version": "3.8.5"
  }
 },
 "nbformat": 4,
 "nbformat_minor": 4
}
