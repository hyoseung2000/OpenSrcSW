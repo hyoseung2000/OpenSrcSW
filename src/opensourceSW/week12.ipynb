{
 "cells": [
  {
   "cell_type": "code",
   "execution_count": 8,
   "metadata": {},
   "outputs": [
    {
     "name": "stdout",
     "output_type": "stream",
     "text": [
      "최고기온이 가장 높은 날 \n",
      " 2020/06/22\n",
      "최저기온이 가장 낮은 날 \n",
      " 2020/12/30\n",
      "일교차가 가장 큰 날 \n",
      " 2020/05/06\n"
     ]
    }
   ],
   "source": [
    "#12주차\n",
    "import csv\n",
    "f=open('seoul.csv',encoding='cp949')\n",
    "data= csv.reader(f)\n",
    "header=next(data)\n",
    "max_temp=-999\n",
    "max_date=''\n",
    "min_temp=999\n",
    "min_date=''\n",
    "term_temp=-1\n",
    "term_date=''\n",
    "for row in data:\n",
    "    if row[-1]=='': \n",
    "        row[-1]=-999\n",
    "    row[-1]=float(row[-1])\n",
    "    if max_temp<row[-1]:\n",
    "        max_date=row[0]\n",
    "        max_temp=row[-1]\n",
    "print('최고기온이 가장 높은 날 \\n',max_date)\n",
    "f.seek(0)\n",
    "data= csv.reader(f)\n",
    "header=next(data)\n",
    "for row in data:\n",
    "    if row[-2]=='': \n",
    "        row[-2]=999\n",
    "    row[-2]=float(row[-2])\n",
    "    if min_temp>row[-2]:\n",
    "        min_date=row[0]\n",
    "        min_temp=row[-2]\n",
    "print('최저기온이 가장 낮은 날 \\n',min_date)\n",
    "f.seek(0)\n",
    "data= csv.reader(f)\n",
    "header=next(data)\n",
    "for row in data:\n",
    "    if row[-1]=='':  \n",
    "        continue\n",
    "    if row[-2]=='': \n",
    "        continue\n",
    "    row[-1]=float(row[-1])\n",
    "    row[-2]=float(row[-2])\n",
    "    if term_temp<(row[-1]-row[-2]):\n",
    "        term_date=row[0]\n",
    "        term_temp=row[-1]-row[-2]\n",
    "f.close()\n",
    "print('일교차가 가장 큰 날 \\n',term_date)"
   ]
  },
  {
   "cell_type": "code",
   "execution_count": 13,
   "metadata": {},
   "outputs": [
    {
     "ename": "ValueError",
     "evalue": "invalid literal for int() with base 10: '797,546'",
     "output_type": "error",
     "traceback": [
      "\u001b[1;31m---------------------------------------------------------------------------\u001b[0m",
      "\u001b[1;31mValueError\u001b[0m                                Traceback (most recent call last)",
      "\u001b[1;32m<ipython-input-13-6d1c692da7d6>\u001b[0m in \u001b[0;36m<module>\u001b[1;34m\u001b[0m\n\u001b[0;32m      6\u001b[0m \u001b[0mmax_stat\u001b[0m\u001b[1;33m=\u001b[0m\u001b[1;33m[\u001b[0m\u001b[1;36m0\u001b[0m\u001b[1;33m,\u001b[0m\u001b[1;36m0\u001b[0m\u001b[1;33m,\u001b[0m\u001b[1;36m0\u001b[0m\u001b[1;33m]\u001b[0m\u001b[1;33m\u001b[0m\u001b[1;33m\u001b[0m\u001b[0m\n\u001b[0;32m      7\u001b[0m \u001b[1;32mfor\u001b[0m \u001b[0mrow\u001b[0m \u001b[1;32min\u001b[0m \u001b[0mdata\u001b[0m\u001b[1;33m:\u001b[0m\u001b[1;33m\u001b[0m\u001b[1;33m\u001b[0m\u001b[0m\n\u001b[1;32m----> 8\u001b[1;33m     \u001b[0mrow\u001b[0m\u001b[1;33m[\u001b[0m\u001b[1;33m-\u001b[0m\u001b[1;36m1\u001b[0m\u001b[1;33m]\u001b[0m\u001b[1;33m=\u001b[0m\u001b[0mint\u001b[0m\u001b[1;33m(\u001b[0m\u001b[0mrow\u001b[0m\u001b[1;33m[\u001b[0m\u001b[1;33m-\u001b[0m\u001b[1;36m1\u001b[0m\u001b[1;33m]\u001b[0m\u001b[1;33m)\u001b[0m\u001b[1;33m\u001b[0m\u001b[1;33m\u001b[0m\u001b[0m\n\u001b[0m\u001b[0;32m      9\u001b[0m     \u001b[0mrow\u001b[0m\u001b[1;33m[\u001b[0m\u001b[1;33m-\u001b[0m\u001b[1;36m2\u001b[0m\u001b[1;33m]\u001b[0m\u001b[1;33m=\u001b[0m\u001b[0mint\u001b[0m\u001b[1;33m(\u001b[0m\u001b[0mrow\u001b[0m\u001b[1;33m[\u001b[0m\u001b[1;33m-\u001b[0m\u001b[1;36m2\u001b[0m\u001b[1;33m]\u001b[0m\u001b[1;33m)\u001b[0m\u001b[1;33m\u001b[0m\u001b[1;33m\u001b[0m\u001b[0m\n\u001b[0;32m     10\u001b[0m \u001b[1;33m\u001b[0m\u001b[0m\n",
      "\u001b[1;31mValueError\u001b[0m: invalid literal for int() with base 10: '797,546'"
     ]
    }
   ],
   "source": [
    "import csv\n",
    "f=open('subwaystation.csv')\n",
    "data=csv.reader(f)\n",
    "next(data)\n",
    "line=''\n",
    "max_stat=[0,0,0]\n",
    "for row in data:\n",
    "    row[-1]=int(row[-1])\n",
    "    row[-2]=int(row[-2])\n",
    "    \n",
    "    if(row[1]==line):\n",
    "        if(max_stat[0]<row[-1]+row[-2]):\n",
    "           max_stat[2]=max_stat[1]\n",
    "           max_stat[1]=max_stat[0]\n",
    "           max_stat[0]=row[-1]+row[-2]\n",
    "        else:\n",
    "           if(max_stat[1]<row[-1]+row[-2]):\n",
    "              max_stat[2]=max_stat[1]\n",
    "              max_stat[1]=row[-1]+row[-2]\n",
    "           else:\n",
    "              if(max_stat[2]<row[-1]+row[-2]):\n",
    "                 max_stat[2]=row[-1]+row[-2]\n",
    "    #새로운 노선\n",
    "    else:\n",
    "        #print(line,'에서 이용객이 가장 많은 역 순위 \\n','1. ',)\n",
    "        line=row[1]\n",
    "        max_stat=[0,0,0]\n",
    "        if(max_stat[0]<row[-1]+row[-2]):\n",
    "           max_stat[2]=max_stat[1]\n",
    "           max_stat[1]=max_stat[0]\n",
    "           max_stat[0]=row[-1]+row[-2]\n",
    "        else:\n",
    "           if(max_stat[1]<row[-1]+row[-2]):\n",
    "              max_stat[2]=max_stat[1]\n",
    "              max_stat[1]=row[-1]+row[-2]\n",
    "           else:\n",
    "              if(max_stat[2]<row[-1]+row[-2]):\n",
    "                 max_stat[2]=row[-1]+row[-2]\n",
    "           "
   ]
  },
  {
   "cell_type": "code",
   "execution_count": null,
   "metadata": {},
   "outputs": [],
   "source": []
  }
 ],
 "metadata": {
  "kernelspec": {
   "display_name": "Python 3",
   "language": "python",
   "name": "python3"
  },
  "language_info": {
   "codemirror_mode": {
    "name": "ipython",
    "version": 3
   },
   "file_extension": ".py",
   "mimetype": "text/x-python",
   "name": "python",
   "nbconvert_exporter": "python",
   "pygments_lexer": "ipython3",
   "version": "3.8.5"
  }
 },
 "nbformat": 4,
 "nbformat_minor": 4
}
