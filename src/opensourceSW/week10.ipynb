{
 "cells": [
  {
   "cell_type": "code",
   "execution_count": 8,
   "metadata": {},
   "outputs": [
    {
     "name": "stdout",
     "output_type": "stream",
     "text": [
      "Numbers? 10 456 87 78\n",
      "Max =  456\n"
     ]
    }
   ],
   "source": [
    "#실습2\n",
    "str=input(\"Numbers? \")\n",
    "nums=str.split()\n",
    "for i in range(len(nums)):\n",
    "    nums[i]=int(nums[i])\n",
    "\n",
    "nums.sort()\n",
    "print(\"Max = \",nums.pop())"
   ]
  },
  {
   "cell_type": "code",
   "execution_count": 16,
   "metadata": {},
   "outputs": [
    {
     "name": "stdout",
     "output_type": "stream",
     "text": [
      "str for lock? abc def\n",
      "암호화된 문자열: efg bcd \n",
      "str for unlock? efg bcd\n",
      "복호화된 문자열: abc def "
     ]
    }
   ],
   "source": [
    "#실습3\n",
    "#암호화\n",
    "str=input(\"str for lock? \")\n",
    "lock=str.split()\n",
    "lock.reverse()\n",
    "print(\"암호화된 문자열:\",end=\" \")\n",
    "for i in range(len(lock)):\n",
    "    temp=lock[i]\n",
    "    lock[i]=\"\"\n",
    "    for ch in temp:\n",
    "        ch=ord(ch)\n",
    "        code=chr(ch+1)\n",
    "        lock[i]+=code\n",
    "    print(lock[i],end=\" \")\n",
    "#복호화\n",
    "str2=input(\"\\nstr for unlock? \")\n",
    "unlock=str2.split()\n",
    "unlock.reverse()\n",
    "print(\"복호화된 문자열:\",end=\" \")\n",
    "for i in range(len(unlock)):\n",
    "    temp=unlock[i]\n",
    "    unlock[i]=\"\"\n",
    "    for ch in temp:\n",
    "        ch=ord(ch)\n",
    "        code=chr(ch-1)\n",
    "        unlock[i]+=code\n",
    "    print(unlock[i],end=\" \")"
   ]
  },
  {
   "cell_type": "code",
   "execution_count": 3,
   "metadata": {},
   "outputs": [
    {
     "name": "stdout",
     "output_type": "stream",
     "text": [
      "10명의 이름과 전화번호를 입력하세요: sbc 123\n",
      "10명의 이름과 전화번호를 입력하세요: dsfd 456\n",
      "10명의 이름과 전화번호를 입력하세요: gfd 789\n",
      "10명의 이름과 전화번호를 입력하세요: wrt 147\n",
      "10명의 이름과 전화번호를 입력하세요: hgj 258\n",
      "10명의 이름과 전화번호를 입력하세요: wsz 369\n",
      "10명의 이름과 전화번호를 입력하세요: qwe 159\n",
      "10명의 이름과 전화번호를 입력하세요: jkl 357\n",
      "10명의 이름과 전화번호를 입력하세요: lhs 139\n",
      "10명의 이름과 전화번호를 입력하세요: rwe 014\n",
      "전화번호를 검색할 이름을 입력하세요: lhs\n",
      "lhs 의 전화번호는  139 입니다.\n",
      "이름을 검색할 전화번호를 입력하세요: 456\n",
      "456 의 이름은  dsfd 입니다.\n"
     ]
    }
   ],
   "source": [
    "#실습4\n",
    "phonebook={}\n",
    "for i in range (10):\n",
    "    str=input(\"10명의 이름과 전화번호를 입력하세요: \")\n",
    "    str2=str.split()\n",
    "    phonebook[str2[0]]=str2[1]\n",
    "findnum=input(\"전화번호를 검색할 이름을 입력하세요: \")\n",
    "print(findnum,\"의 전화번호는 \",phonebook[findnum],\"입니다.\")\n",
    "findname=input(\"이름을 검색할 전화번호를 입력하세요: \")\n",
    "for name,num in phonebook.items():\n",
    "    if(phonebook[name]==findname):\n",
    "        print(findname,\"의 이름은 \",name,\"입니다.\")\n",
    "        break\n",
    "    "
   ]
  },
  {
   "cell_type": "code",
   "execution_count": null,
   "metadata": {},
   "outputs": [],
   "source": []
  }
 ],
 "metadata": {
  "kernelspec": {
   "display_name": "Python 3",
   "language": "python",
   "name": "python3"
  },
  "language_info": {
   "codemirror_mode": {
    "name": "ipython",
    "version": 3
   },
   "file_extension": ".py",
   "mimetype": "text/x-python",
   "name": "python",
   "nbconvert_exporter": "python",
   "pygments_lexer": "ipython3",
   "version": "3.8.5"
  }
 },
 "nbformat": 4,
 "nbformat_minor": 4
}
